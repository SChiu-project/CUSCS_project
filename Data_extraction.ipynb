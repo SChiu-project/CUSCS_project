{
  "cells": [
    {
      "cell_type": "markdown",
      "metadata": {
        "id": "view-in-github",
        "colab_type": "text"
      },
      "source": [
        "<a href=\"https://colab.research.google.com/github/SChiu-project/CUSCS_project/blob/SChiu-20230702/Data_extraction.ipynb\" target=\"_parent\"><img src=\"https://colab.research.google.com/assets/colab-badge.svg\" alt=\"Open In Colab\"/></a>"
      ]
    },
    {
      "cell_type": "code",
      "execution_count": null,
      "metadata": {
        "colab": {
          "base_uri": "https://localhost:8080/"
        },
        "id": "WWAr8fGZtAnK",
        "outputId": "93dcafb9-e924-4ffc-eb9c-a31108989ce0"
      },
      "outputs": [
        {
          "name": "stdout",
          "output_type": "stream",
          "text": [
            "Collecting praw\n",
            "  Downloading praw-7.7.0-py3-none-any.whl (189 kB)\n",
            "\u001b[?25l     \u001b[90m━━━━━━━━━━━━━━━━━━━━━━━━━━━━━━━━━━━━━━━━\u001b[0m \u001b[32m0.0/189.4 kB\u001b[0m \u001b[31m?\u001b[0m eta \u001b[36m-:--:--\u001b[0m\r\u001b[2K     \u001b[90m━━━━━━━━━━━━━━━━━━━━━━━━━━━━━━━━━━━━━━━\u001b[0m \u001b[32m189.4/189.4 kB\u001b[0m \u001b[31m9.1 MB/s\u001b[0m eta \u001b[36m0:00:00\u001b[0m\n",
            "\u001b[?25hCollecting prawcore<3,>=2.1 (from praw)\n",
            "  Downloading prawcore-2.3.0-py3-none-any.whl (16 kB)\n",
            "Collecting update-checker>=0.18 (from praw)\n",
            "  Downloading update_checker-0.18.0-py3-none-any.whl (7.0 kB)\n",
            "Requirement already satisfied: websocket-client>=0.54.0 in /usr/local/lib/python3.10/dist-packages (from praw) (1.6.0)\n",
            "Requirement already satisfied: requests<3.0,>=2.6.0 in /usr/local/lib/python3.10/dist-packages (from prawcore<3,>=2.1->praw) (2.27.1)\n",
            "Requirement already satisfied: urllib3<1.27,>=1.21.1 in /usr/local/lib/python3.10/dist-packages (from requests<3.0,>=2.6.0->prawcore<3,>=2.1->praw) (1.26.16)\n",
            "Requirement already satisfied: certifi>=2017.4.17 in /usr/local/lib/python3.10/dist-packages (from requests<3.0,>=2.6.0->prawcore<3,>=2.1->praw) (2023.5.7)\n",
            "Requirement already satisfied: charset-normalizer~=2.0.0 in /usr/local/lib/python3.10/dist-packages (from requests<3.0,>=2.6.0->prawcore<3,>=2.1->praw) (2.0.12)\n",
            "Requirement already satisfied: idna<4,>=2.5 in /usr/local/lib/python3.10/dist-packages (from requests<3.0,>=2.6.0->prawcore<3,>=2.1->praw) (3.4)\n",
            "Installing collected packages: update-checker, prawcore, praw\n",
            "Successfully installed praw-7.7.0 prawcore-2.3.0 update-checker-0.18.0\n"
          ]
        }
      ],
      "source": [
        "pip install praw"
      ]
    },
    {
      "cell_type": "code",
      "execution_count": null,
      "metadata": {
        "id": "jQ7V0t6Au2uy"
      },
      "outputs": [],
      "source": [
        "# import library\n",
        "import praw\n",
        "import pandas as pd\n",
        "import numpy as np\n",
        "import math\n",
        "import datetime\n",
        "\n",
        "# login to Reddit\n",
        "\n",
        "reddit = praw.Reddit(\n",
        "    client_id=\"btBlH-D9_rabq3hzoTuEpg\",\n",
        "    client_secret=\"lNFryDZ1Xf_7DKWWEgQ0ORdudkSP_A\",\n",
        "    user_agent=\"window:myredditproject:v1.1.1 (by u/Jun_Whelan)\",\n",
        "    check_for_async=False)"
      ]
    },
    {
      "cell_type": "code",
      "source": [
        "reddit = praw.Reddit(\n",
        "    client_id=\"UWyAG9YoinOXovOpixMH4A\",\n",
        "    client_secret=\"qN5D5IDQ-E3uVNJDpbgsyLFTZjug2w\",\n",
        "    user_agent=\"windows:PRAW_testing:v1.0 (by/u/GZespri)\",\n",
        "    check_for_async=False\n",
        ")"
      ],
      "metadata": {
        "id": "HbYvp4zbnztI"
      },
      "execution_count": null,
      "outputs": []
    },
    {
      "cell_type": "code",
      "execution_count": null,
      "metadata": {
        "colab": {
          "base_uri": "https://localhost:8080/"
        },
        "id": "mUuOhqtQvCaK",
        "outputId": "570f22f6-523d-4df6-d0cb-6911698bd2f7"
      },
      "outputs": [
        {
          "name": "stdout",
          "output_type": "stream",
          "text": [
            "                                               title submission_id\n",
            "0        What Are Your Moves Tomorrow, July 07, 2023       14sk11b\n",
            "1        What Are Your Moves Tomorrow, July 06, 2023       14rlklm\n",
            "2        What Are Your Moves Tomorrow, July 05, 2023       14qpb7x\n",
            "3        What Are Your Moves Tomorrow, July 03, 2023       14oxmw4\n",
            "4        What Are Your Moves Tomorrow, June 30, 2023       14metqx\n",
            "..                                               ...           ...\n",
            "146  What Are Your Moves Tomorrow, December 02, 2022        z9zl9u\n",
            "147  What Are Your Moves Tomorrow, December 01, 2022        z932lr\n",
            "148  What Are Your Moves Tomorrow, November 30, 2022        z85zyn\n",
            "149  What Are Your Moves Tomorrow, November 29, 2022        z78cuj\n",
            "150  What Are Your Moves Tomorrow, November 28, 2022        z6cfw8\n",
            "\n",
            "[151 rows x 2 columns]\n"
          ]
        }
      ],
      "source": [
        "# search for all ' What Are Your Moves Tomorrow' threads\n",
        "# limited result\n",
        "subreddit_name = 'wallstreetbets'\n",
        "keyword = 'What Are Your Moves Tomorrow'\n",
        "submissions = reddit.subreddit(subreddit_name).search(\"title:{}\".format(keyword), sort='new', limit = 1000) #no after\n",
        "\n",
        "data = []\n",
        "for submission in submissions:\n",
        "    if keyword.lower() in submission.title.lower():\n",
        "        data.append([submission.title, submission.id])\n",
        "\n",
        "df = pd.DataFrame(data, columns=['title', 'submission_id'])\n",
        "print(df)"
      ]
    },
    {
      "cell_type": "code",
      "execution_count": null,
      "metadata": {
        "colab": {
          "base_uri": "https://localhost:8080/",
          "height": 677
        },
        "id": "gup3tLdfvJ45",
        "outputId": "15018e66-8e10-4894-d4f2-90734c960b7f"
      },
      "outputs": [
        {
          "data": {
            "text/html": [
              "\n",
              "  <div id=\"df-528fe774-2a9c-4d6d-922b-e73660a3a49a\">\n",
              "    <div class=\"colab-df-container\">\n",
              "      <div>\n",
              "<style scoped>\n",
              "    .dataframe tbody tr th:only-of-type {\n",
              "        vertical-align: middle;\n",
              "    }\n",
              "\n",
              "    .dataframe tbody tr th {\n",
              "        vertical-align: top;\n",
              "    }\n",
              "\n",
              "    .dataframe thead th {\n",
              "        text-align: right;\n",
              "    }\n",
              "</style>\n",
              "<table border=\"1\" class=\"dataframe\">\n",
              "  <thead>\n",
              "    <tr style=\"text-align: right;\">\n",
              "      <th></th>\n",
              "      <th>title</th>\n",
              "      <th>submission_id</th>\n",
              "    </tr>\n",
              "  </thead>\n",
              "  <tbody>\n",
              "    <tr>\n",
              "      <th>50</th>\n",
              "      <td>What Are Your Moves Tomorrow, April 26, 2023</td>\n",
              "      <td>12yu7e5</td>\n",
              "    </tr>\n",
              "    <tr>\n",
              "      <th>51</th>\n",
              "      <td>What Are Your Moves Tomorrow, April 25, 2023</td>\n",
              "      <td>12xudew</td>\n",
              "    </tr>\n",
              "    <tr>\n",
              "      <th>52</th>\n",
              "      <td>What Are Your Moves Tomorrow, April 24, 2023</td>\n",
              "      <td>12wo3zl</td>\n",
              "    </tr>\n",
              "    <tr>\n",
              "      <th>53</th>\n",
              "      <td>What Are Your Moves Tomorrow, April 21, 2023</td>\n",
              "      <td>12tdbkh</td>\n",
              "    </tr>\n",
              "    <tr>\n",
              "      <th>54</th>\n",
              "      <td>What Are Your Moves Tomorrow, April 20, 2023</td>\n",
              "      <td>12s86vj</td>\n",
              "    </tr>\n",
              "    <tr>\n",
              "      <th>55</th>\n",
              "      <td>What Are Your Moves Tomorrow, April 19, 2023</td>\n",
              "      <td>12r2ah5</td>\n",
              "    </tr>\n",
              "    <tr>\n",
              "      <th>56</th>\n",
              "      <td>What Are Your Moves Tomorrow, April 18, 2023</td>\n",
              "      <td>12pup8a</td>\n",
              "    </tr>\n",
              "    <tr>\n",
              "      <th>57</th>\n",
              "      <td>What Are Your Moves Tomorrow, April 17, 2023</td>\n",
              "      <td>12omvw4</td>\n",
              "    </tr>\n",
              "    <tr>\n",
              "      <th>58</th>\n",
              "      <td>What Are Your Moves Tomorrow, April 14, 2023</td>\n",
              "      <td>12l1rmw</td>\n",
              "    </tr>\n",
              "    <tr>\n",
              "      <th>59</th>\n",
              "      <td>What Are Your Moves Tomorrow, April 13, 2023</td>\n",
              "      <td>12jx3l5</td>\n",
              "    </tr>\n",
              "    <tr>\n",
              "      <th>60</th>\n",
              "      <td>What Are Your Moves Tomorrow, April 12, 2023</td>\n",
              "      <td>12ivmsv</td>\n",
              "    </tr>\n",
              "    <tr>\n",
              "      <th>61</th>\n",
              "      <td>What Are Your Moves Tomorrow, April 11, 2023</td>\n",
              "      <td>12hu97m</td>\n",
              "    </tr>\n",
              "    <tr>\n",
              "      <th>62</th>\n",
              "      <td>What Are Your Moves Tomorrow, April 10, 2023</td>\n",
              "      <td>12gtxf9</td>\n",
              "    </tr>\n",
              "    <tr>\n",
              "      <th>63</th>\n",
              "      <td>What Are Your Moves Tomorrow, April 07, 2023</td>\n",
              "      <td>12dw2bi</td>\n",
              "    </tr>\n",
              "    <tr>\n",
              "      <th>64</th>\n",
              "      <td>What Are Your Moves Tomorrow, April 06, 2023</td>\n",
              "      <td>12cw1gd</td>\n",
              "    </tr>\n",
              "    <tr>\n",
              "      <th>65</th>\n",
              "      <td>What Are Your Moves Tomorrow, April 05, 2023</td>\n",
              "      <td>12bum9o</td>\n",
              "    </tr>\n",
              "    <tr>\n",
              "      <th>66</th>\n",
              "      <td>What Are Your Moves Tomorrow, April 04, 2023</td>\n",
              "      <td>12avwoz</td>\n",
              "    </tr>\n",
              "    <tr>\n",
              "      <th>67</th>\n",
              "      <td>What Are Your Moves Tomorrow, April 03, 2023</td>\n",
              "      <td>129w9vw</td>\n",
              "    </tr>\n",
              "    <tr>\n",
              "      <th>68</th>\n",
              "      <td>What Are Your Moves Tomorrow, March 31, 2023</td>\n",
              "      <td>126xlav</td>\n",
              "    </tr>\n",
              "    <tr>\n",
              "      <th>69</th>\n",
              "      <td>What Are Your Moves Tomorrow, March 30, 2023</td>\n",
              "      <td>125yz13</td>\n",
              "    </tr>\n",
              "  </tbody>\n",
              "</table>\n",
              "</div>\n",
              "      <button class=\"colab-df-convert\" onclick=\"convertToInteractive('df-528fe774-2a9c-4d6d-922b-e73660a3a49a')\"\n",
              "              title=\"Convert this dataframe to an interactive table.\"\n",
              "              style=\"display:none;\">\n",
              "        \n",
              "  <svg xmlns=\"http://www.w3.org/2000/svg\" height=\"24px\"viewBox=\"0 0 24 24\"\n",
              "       width=\"24px\">\n",
              "    <path d=\"M0 0h24v24H0V0z\" fill=\"none\"/>\n",
              "    <path d=\"M18.56 5.44l.94 2.06.94-2.06 2.06-.94-2.06-.94-.94-2.06-.94 2.06-2.06.94zm-11 1L8.5 8.5l.94-2.06 2.06-.94-2.06-.94L8.5 2.5l-.94 2.06-2.06.94zm10 10l.94 2.06.94-2.06 2.06-.94-2.06-.94-.94-2.06-.94 2.06-2.06.94z\"/><path d=\"M17.41 7.96l-1.37-1.37c-.4-.4-.92-.59-1.43-.59-.52 0-1.04.2-1.43.59L10.3 9.45l-7.72 7.72c-.78.78-.78 2.05 0 2.83L4 21.41c.39.39.9.59 1.41.59.51 0 1.02-.2 1.41-.59l7.78-7.78 2.81-2.81c.8-.78.8-2.07 0-2.86zM5.41 20L4 18.59l7.72-7.72 1.47 1.35L5.41 20z\"/>\n",
              "  </svg>\n",
              "      </button>\n",
              "      \n",
              "  <style>\n",
              "    .colab-df-container {\n",
              "      display:flex;\n",
              "      flex-wrap:wrap;\n",
              "      gap: 12px;\n",
              "    }\n",
              "\n",
              "    .colab-df-convert {\n",
              "      background-color: #E8F0FE;\n",
              "      border: none;\n",
              "      border-radius: 50%;\n",
              "      cursor: pointer;\n",
              "      display: none;\n",
              "      fill: #1967D2;\n",
              "      height: 32px;\n",
              "      padding: 0 0 0 0;\n",
              "      width: 32px;\n",
              "    }\n",
              "\n",
              "    .colab-df-convert:hover {\n",
              "      background-color: #E2EBFA;\n",
              "      box-shadow: 0px 1px 2px rgba(60, 64, 67, 0.3), 0px 1px 3px 1px rgba(60, 64, 67, 0.15);\n",
              "      fill: #174EA6;\n",
              "    }\n",
              "\n",
              "    [theme=dark] .colab-df-convert {\n",
              "      background-color: #3B4455;\n",
              "      fill: #D2E3FC;\n",
              "    }\n",
              "\n",
              "    [theme=dark] .colab-df-convert:hover {\n",
              "      background-color: #434B5C;\n",
              "      box-shadow: 0px 1px 3px 1px rgba(0, 0, 0, 0.15);\n",
              "      filter: drop-shadow(0px 1px 2px rgba(0, 0, 0, 0.3));\n",
              "      fill: #FFFFFF;\n",
              "    }\n",
              "  </style>\n",
              "\n",
              "      <script>\n",
              "        const buttonEl =\n",
              "          document.querySelector('#df-528fe774-2a9c-4d6d-922b-e73660a3a49a button.colab-df-convert');\n",
              "        buttonEl.style.display =\n",
              "          google.colab.kernel.accessAllowed ? 'block' : 'none';\n",
              "\n",
              "        async function convertToInteractive(key) {\n",
              "          const element = document.querySelector('#df-528fe774-2a9c-4d6d-922b-e73660a3a49a');\n",
              "          const dataTable =\n",
              "            await google.colab.kernel.invokeFunction('convertToInteractive',\n",
              "                                                     [key], {});\n",
              "          if (!dataTable) return;\n",
              "\n",
              "          const docLinkHtml = 'Like what you see? Visit the ' +\n",
              "            '<a target=\"_blank\" href=https://colab.research.google.com/notebooks/data_table.ipynb>data table notebook</a>'\n",
              "            + ' to learn more about interactive tables.';\n",
              "          element.innerHTML = '';\n",
              "          dataTable['output_type'] = 'display_data';\n",
              "          await google.colab.output.renderOutput(dataTable, element);\n",
              "          const docLink = document.createElement('div');\n",
              "          docLink.innerHTML = docLinkHtml;\n",
              "          element.appendChild(docLink);\n",
              "        }\n",
              "      </script>\n",
              "    </div>\n",
              "  </div>\n",
              "  "
            ],
            "text/plain": [
              "                                           title submission_id\n",
              "50  What Are Your Moves Tomorrow, April 26, 2023       12yu7e5\n",
              "51  What Are Your Moves Tomorrow, April 25, 2023       12xudew\n",
              "52  What Are Your Moves Tomorrow, April 24, 2023       12wo3zl\n",
              "53  What Are Your Moves Tomorrow, April 21, 2023       12tdbkh\n",
              "54  What Are Your Moves Tomorrow, April 20, 2023       12s86vj\n",
              "55  What Are Your Moves Tomorrow, April 19, 2023       12r2ah5\n",
              "56  What Are Your Moves Tomorrow, April 18, 2023       12pup8a\n",
              "57  What Are Your Moves Tomorrow, April 17, 2023       12omvw4\n",
              "58  What Are Your Moves Tomorrow, April 14, 2023       12l1rmw\n",
              "59  What Are Your Moves Tomorrow, April 13, 2023       12jx3l5\n",
              "60  What Are Your Moves Tomorrow, April 12, 2023       12ivmsv\n",
              "61  What Are Your Moves Tomorrow, April 11, 2023       12hu97m\n",
              "62  What Are Your Moves Tomorrow, April 10, 2023       12gtxf9\n",
              "63  What Are Your Moves Tomorrow, April 07, 2023       12dw2bi\n",
              "64  What Are Your Moves Tomorrow, April 06, 2023       12cw1gd\n",
              "65  What Are Your Moves Tomorrow, April 05, 2023       12bum9o\n",
              "66  What Are Your Moves Tomorrow, April 04, 2023       12avwoz\n",
              "67  What Are Your Moves Tomorrow, April 03, 2023       129w9vw\n",
              "68  What Are Your Moves Tomorrow, March 31, 2023       126xlav\n",
              "69  What Are Your Moves Tomorrow, March 30, 2023       125yz13"
            ]
          },
          "execution_count": 4,
          "metadata": {},
          "output_type": "execute_result"
        }
      ],
      "source": [
        "df[50:70]"
      ]
    },
    {
      "cell_type": "code",
      "execution_count": null,
      "metadata": {
        "id": "twQyxgmDvmUB"
      },
      "outputs": [],
      "source": [
        "# 定义一个函数，用于将 comment 对象转换为字符串\n",
        "def process_comment(comment):\n",
        "    return comment.body\n",
        "\n",
        "# 定义一个函数，用于获取所有帖子的评论并将它们合并为一个字符串\n",
        "def get_comments(submission_id):\n",
        "    submission = reddit.submission(id=submission_id)\n",
        "    submission.comments.replace_more(limit=None)\n",
        "    comments = submission.comments.list()\n",
        "    comment_texts = [process_comment(comment) for comment in comments]\n",
        "    return ' '.join(comment_texts)"
      ]
    },
    {
      "cell_type": "code",
      "execution_count": null,
      "metadata": {
        "colab": {
          "background_save": true
        },
        "id": "XocFfl_tvoNX",
        "outputId": "ed7e0a4c-18a9-499b-8fb5-2183f8e69644"
      },
      "outputs": [
        {
          "name": "stderr",
          "output_type": "stream",
          "text": [
            "WARNING:prawcore:Retrying due to ConnectionError(ProtocolError('Connection aborted.', RemoteDisconnected('Remote end closed connection without response'))) status: POST https://oauth.reddit.com/api/morechildren/\n",
            "WARNING:prawcore:Retrying due to ConnectionError(ProtocolError('Connection aborted.', RemoteDisconnected('Remote end closed connection without response'))) status: POST https://oauth.reddit.com/api/morechildren/\n"
          ]
        }
      ],
      "source": [
        "df_temp = df[56:66]\n",
        "\n",
        "# 对于数据框中的每个 submission_id，获取所有评论并将它们合并为一个字符串\n",
        "comments = []\n",
        "for submission_id in df_temp['submission_id']:\n",
        "    comment_text = get_comments(submission_id)\n",
        "    comments.append(comment_text)\n",
        "\n",
        "# 将字符串添加到数据框中的新列\n",
        "df_temp['comments'] = comments\n",
        "\n",
        "\n",
        "df_temp.to_csv(\"df_temp.csv\")"
      ]
    },
    {
      "cell_type": "code",
      "execution_count": null,
      "metadata": {
        "id": "wKzZ9D5psUv0"
      },
      "outputs": [],
      "source": [
        "\n",
        "# extract all comments under that thread\n",
        "\n",
        "for i in range(1,17):\n",
        "    start = i*10+1\n",
        "    end = (i+1)*10+1\n",
        "    df_temp = df[start:end]\n",
        "\n",
        "    # 对于数据框中的每个 submission_id，获取所有评论并将它们合并为一个字符串\n",
        "    comments = []\n",
        "    for submission_id in df_temp['submission_id']:\n",
        "        comment_text = get_comments(submission_id)\n",
        "        comments.append(comment_text)\n",
        "\n",
        "    # 将字符串添加到数据框中的新列\n",
        "    df_temp['comments'] = comments\n",
        "\n",
        "    # 创建文件名，格式为 df_i.csv，其中 i 是循环变量的值\n",
        "    filename = 'df_{}.csv'.format(i)\n",
        "\n",
        "    # 将数据框保存到文件中\n",
        "    df_temp.to_csv(filename, index=False)\n",
        "\n",
        "\n"
      ]
    },
    {
      "cell_type": "code",
      "execution_count": null,
      "metadata": {
        "id": "hjQzXWUaxiQg"
      },
      "outputs": [],
      "source": []
    }
  ],
  "metadata": {
    "colab": {
      "provenance": [],
      "mount_file_id": "1JqBffSwNz1QDDkbErwpFj-DWrz9fYAef",
      "authorship_tag": "ABX9TyP4VLHv3a3OfoL2BkcqFrba",
      "include_colab_link": true
    },
    "kernelspec": {
      "display_name": "Python 3",
      "name": "python3"
    },
    "language_info": {
      "name": "python"
    }
  },
  "nbformat": 4,
  "nbformat_minor": 0
}