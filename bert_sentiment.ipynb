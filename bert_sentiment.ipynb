{
 "cells": [
  {
   "cell_type": "code",
   "execution_count": 21,
   "metadata": {},
   "outputs": [
    {
     "name": "stdout",
     "output_type": "stream",
     "text": [
      "Requirement already satisfied: transformers in /Users/wailunchan/.pyenv/versions/miniforge3/lib/python3.9/site-packages (4.31.0)\n",
      "Requirement already satisfied: bert-for-tf2 in /Users/wailunchan/.pyenv/versions/miniforge3/lib/python3.9/site-packages (0.14.9)\n",
      "Requirement already satisfied: requests in /Users/wailunchan/.pyenv/versions/miniforge3/lib/python3.9/site-packages (2.27.1)\n",
      "Requirement already satisfied: beautifulsoup4 in /Users/wailunchan/.pyenv/versions/miniforge3/lib/python3.9/site-packages (4.12.2)\n",
      "Requirement already satisfied: pandas in /Users/wailunchan/.pyenv/versions/miniforge3/lib/python3.9/site-packages (2.0.3)\n",
      "Requirement already satisfied: numpy in /Users/wailunchan/.pyenv/versions/miniforge3/lib/python3.9/site-packages (1.25.1)\n",
      "Requirement already satisfied: filelock in /Users/wailunchan/.pyenv/versions/miniforge3/lib/python3.9/site-packages (from transformers) (3.12.2)\n",
      "Requirement already satisfied: huggingface-hub<1.0,>=0.14.1 in /Users/wailunchan/.pyenv/versions/miniforge3/lib/python3.9/site-packages (from transformers) (0.16.4)\n",
      "Requirement already satisfied: packaging>=20.0 in /Users/wailunchan/.pyenv/versions/miniforge3/lib/python3.9/site-packages (from transformers) (23.1)\n",
      "Requirement already satisfied: pyyaml>=5.1 in /Users/wailunchan/.pyenv/versions/miniforge3/lib/python3.9/site-packages (from transformers) (6.0.1)\n",
      "Requirement already satisfied: regex!=2019.12.17 in /Users/wailunchan/.pyenv/versions/miniforge3/lib/python3.9/site-packages (from transformers) (2023.6.3)\n",
      "Requirement already satisfied: tokenizers!=0.11.3,<0.14,>=0.11.1 in /Users/wailunchan/.pyenv/versions/miniforge3/lib/python3.9/site-packages (from transformers) (0.13.3)\n",
      "Requirement already satisfied: safetensors>=0.3.1 in /Users/wailunchan/.pyenv/versions/miniforge3/lib/python3.9/site-packages (from transformers) (0.3.1)\n",
      "Requirement already satisfied: tqdm>=4.27 in /Users/wailunchan/.pyenv/versions/miniforge3/lib/python3.9/site-packages (from transformers) (4.62.3)\n",
      "Requirement already satisfied: py-params>=0.9.6 in /Users/wailunchan/.pyenv/versions/miniforge3/lib/python3.9/site-packages (from bert-for-tf2) (0.10.2)\n",
      "Requirement already satisfied: params-flow>=0.8.0 in /Users/wailunchan/.pyenv/versions/miniforge3/lib/python3.9/site-packages (from bert-for-tf2) (0.8.2)\n",
      "Requirement already satisfied: urllib3<1.27,>=1.21.1 in /Users/wailunchan/.pyenv/versions/miniforge3/lib/python3.9/site-packages (from requests) (1.26.8)\n",
      "Requirement already satisfied: certifi>=2017.4.17 in /Users/wailunchan/.pyenv/versions/miniforge3/lib/python3.9/site-packages (from requests) (2021.10.8)\n",
      "Requirement already satisfied: charset-normalizer~=2.0.0 in /Users/wailunchan/.pyenv/versions/miniforge3/lib/python3.9/site-packages (from requests) (2.0.12)\n",
      "Requirement already satisfied: idna<4,>=2.5 in /Users/wailunchan/.pyenv/versions/miniforge3/lib/python3.9/site-packages (from requests) (3.3)\n",
      "Requirement already satisfied: soupsieve>1.2 in /Users/wailunchan/.pyenv/versions/miniforge3/lib/python3.9/site-packages (from beautifulsoup4) (2.4.1)\n",
      "Requirement already satisfied: python-dateutil>=2.8.2 in /Users/wailunchan/.pyenv/versions/miniforge3/lib/python3.9/site-packages (from pandas) (2.8.2)\n",
      "Requirement already satisfied: pytz>=2020.1 in /Users/wailunchan/.pyenv/versions/miniforge3/lib/python3.9/site-packages (from pandas) (2023.3)\n",
      "Requirement already satisfied: tzdata>=2022.1 in /Users/wailunchan/.pyenv/versions/miniforge3/lib/python3.9/site-packages (from pandas) (2023.3)\n",
      "Requirement already satisfied: fsspec in /Users/wailunchan/.pyenv/versions/miniforge3/lib/python3.9/site-packages (from huggingface-hub<1.0,>=0.14.1->transformers) (2023.6.0)\n",
      "Requirement already satisfied: typing-extensions>=3.7.4.3 in /Users/wailunchan/.pyenv/versions/miniforge3/lib/python3.9/site-packages (from huggingface-hub<1.0,>=0.14.1->transformers) (4.1.1)\n",
      "Requirement already satisfied: six>=1.5 in /Users/wailunchan/.pyenv/versions/miniforge3/lib/python3.9/site-packages (from python-dateutil>=2.8.2->pandas) (1.15.0)\n"
     ]
    }
   ],
   "source": [
    "!pip install transformers bert-for-tf2\n"
   ]
  },
  {
   "cell_type": "code",
   "execution_count": 22,
   "metadata": {},
   "outputs": [
    {
     "name": "stdout",
     "output_type": "stream",
     "text": [
      "Requirement already satisfied: transformers in /Users/wailunchan/.pyenv/versions/miniforge3/lib/python3.9/site-packages (4.31.0)\n",
      "Requirement already satisfied: bert-for-tf2 in /Users/wailunchan/.pyenv/versions/miniforge3/lib/python3.9/site-packages (0.14.9)\n",
      "Requirement already satisfied: filelock in /Users/wailunchan/.pyenv/versions/miniforge3/lib/python3.9/site-packages (from transformers) (3.12.2)\n",
      "Requirement already satisfied: huggingface-hub<1.0,>=0.14.1 in /Users/wailunchan/.pyenv/versions/miniforge3/lib/python3.9/site-packages (from transformers) (0.16.4)\n",
      "Requirement already satisfied: numpy>=1.17 in /Users/wailunchan/.pyenv/versions/miniforge3/lib/python3.9/site-packages (from transformers) (1.25.1)\n",
      "Requirement already satisfied: packaging>=20.0 in /Users/wailunchan/.pyenv/versions/miniforge3/lib/python3.9/site-packages (from transformers) (23.1)\n",
      "Requirement already satisfied: pyyaml>=5.1 in /Users/wailunchan/.pyenv/versions/miniforge3/lib/python3.9/site-packages (from transformers) (6.0.1)\n",
      "Requirement already satisfied: regex!=2019.12.17 in /Users/wailunchan/.pyenv/versions/miniforge3/lib/python3.9/site-packages (from transformers) (2023.6.3)\n",
      "Requirement already satisfied: requests in /Users/wailunchan/.pyenv/versions/miniforge3/lib/python3.9/site-packages (from transformers) (2.27.1)\n",
      "Requirement already satisfied: tokenizers!=0.11.3,<0.14,>=0.11.1 in /Users/wailunchan/.pyenv/versions/miniforge3/lib/python3.9/site-packages (from transformers) (0.13.3)\n",
      "Requirement already satisfied: safetensors>=0.3.1 in /Users/wailunchan/.pyenv/versions/miniforge3/lib/python3.9/site-packages (from transformers) (0.3.1)\n",
      "Requirement already satisfied: tqdm>=4.27 in /Users/wailunchan/.pyenv/versions/miniforge3/lib/python3.9/site-packages (from transformers) (4.62.3)\n",
      "Requirement already satisfied: py-params>=0.9.6 in /Users/wailunchan/.pyenv/versions/miniforge3/lib/python3.9/site-packages (from bert-for-tf2) (0.10.2)\n",
      "Requirement already satisfied: params-flow>=0.8.0 in /Users/wailunchan/.pyenv/versions/miniforge3/lib/python3.9/site-packages (from bert-for-tf2) (0.8.2)\n",
      "Requirement already satisfied: fsspec in /Users/wailunchan/.pyenv/versions/miniforge3/lib/python3.9/site-packages (from huggingface-hub<1.0,>=0.14.1->transformers) (2023.6.0)\n",
      "Requirement already satisfied: typing-extensions>=3.7.4.3 in /Users/wailunchan/.pyenv/versions/miniforge3/lib/python3.9/site-packages (from huggingface-hub<1.0,>=0.14.1->transformers) (4.1.1)\n",
      "Requirement already satisfied: urllib3<1.27,>=1.21.1 in /Users/wailunchan/.pyenv/versions/miniforge3/lib/python3.9/site-packages (from requests->transformers) (1.26.8)\n",
      "Requirement already satisfied: certifi>=2017.4.17 in /Users/wailunchan/.pyenv/versions/miniforge3/lib/python3.9/site-packages (from requests->transformers) (2021.10.8)\n",
      "Requirement already satisfied: charset-normalizer~=2.0.0 in /Users/wailunchan/.pyenv/versions/miniforge3/lib/python3.9/site-packages (from requests->transformers) (2.0.12)\n",
      "Requirement already satisfied: idna<4,>=2.5 in /Users/wailunchan/.pyenv/versions/miniforge3/lib/python3.9/site-packages (from requests->transformers) (3.3)\n",
      "Note: you may need to restart the kernel to use updated packages.\n"
     ]
    }
   ],
   "source": [
    "pip install --upgrade transformers bert-for-tf2"
   ]
  },
  {
   "cell_type": "code",
   "execution_count": 1,
   "metadata": {},
   "outputs": [],
   "source": [
    "import pandas as pd\n",
    "import tensorflow as tf\n",
    "from transformers import BertTokenizer, TFBertForSequenceClassification"
   ]
  },
  {
   "cell_type": "code",
   "execution_count": 2,
   "metadata": {},
   "outputs": [
    {
     "name": "stdout",
     "output_type": "stream",
     "text": [
      "Metal device set to: Apple M1 Pro\n",
      "\n",
      "systemMemory: 16.00 GB\n",
      "maxCacheSize: 5.33 GB\n",
      "\n"
     ]
    },
    {
     "name": "stderr",
     "output_type": "stream",
     "text": [
      "2023-07-21 21:06:11.650767: I tensorflow/core/common_runtime/pluggable_device/pluggable_device_factory.cc:305] Could not identify NUMA node of platform GPU ID 0, defaulting to 0. Your kernel may not have been built with NUMA support.\n",
      "2023-07-21 21:06:11.651015: I tensorflow/core/common_runtime/pluggable_device/pluggable_device_factory.cc:271] Created TensorFlow device (/job:localhost/replica:0/task:0/device:GPU:0 with 0 MB memory) -> physical PluggableDevice (device: 0, name: METAL, pci bus id: <undefined>)\n",
      "All model checkpoint layers were used when initializing TFBertForSequenceClassification.\n",
      "\n",
      "All the layers of TFBertForSequenceClassification were initialized from the model checkpoint at nlptown/bert-base-multilingual-uncased-sentiment.\n",
      "If your task is similar to the task the model of the checkpoint was trained on, you can already use TFBertForSequenceClassification for predictions without further training.\n"
     ]
    }
   ],
   "source": [
    "# Instantiate the Model and Tokenizer\n",
    "tokenizer = BertTokenizer.from_pretrained('nlptown/bert-base-multilingual-uncased-sentiment')\n",
    "model = TFBertForSequenceClassification.from_pretrained('nlptown/bert-base-multilingual-uncased-sentiment')"
   ]
  },
  {
   "cell_type": "code",
   "execution_count": 3,
   "metadata": {},
   "outputs": [],
   "source": [
    "# Define the Sentiment Analysis Function\n",
    "def sentiment_score(review):\n",
    "    tokens = tokenizer.encode(review, return_tensors='tf', max_length=512, truncation=True)\n",
    "    result = model(tokens)\n",
    "    return int(tf.argmax(result.logits, axis=1)[0])"
   ]
  },
  {
   "cell_type": "code",
   "execution_count": 4,
   "metadata": {},
   "outputs": [],
   "source": [
    "df = pd.read_csv('one_row.csv')"
   ]
  },
  {
   "cell_type": "code",
   "execution_count": 5,
   "metadata": {},
   "outputs": [
    {
     "data": {
      "text/html": [
       "<div>\n",
       "<style scoped>\n",
       "    .dataframe tbody tr th:only-of-type {\n",
       "        vertical-align: middle;\n",
       "    }\n",
       "\n",
       "    .dataframe tbody tr th {\n",
       "        vertical-align: top;\n",
       "    }\n",
       "\n",
       "    .dataframe thead th {\n",
       "        text-align: right;\n",
       "    }\n",
       "</style>\n",
       "<table border=\"1\" class=\"dataframe\">\n",
       "  <thead>\n",
       "    <tr style=\"text-align: right;\">\n",
       "      <th></th>\n",
       "      <th>index</th>\n",
       "      <th>date</th>\n",
       "      <th>comments</th>\n",
       "      <th>Open_x</th>\n",
       "      <th>High_x</th>\n",
       "      <th>Low_x</th>\n",
       "      <th>Close_x</th>\n",
       "      <th>Adj Close_x</th>\n",
       "      <th>Volume_x</th>\n",
       "      <th>percent_chnage_x</th>\n",
       "      <th>...</th>\n",
       "      <th>High_y</th>\n",
       "      <th>Low_y</th>\n",
       "      <th>Close_y</th>\n",
       "      <th>Adj Close_y</th>\n",
       "      <th>Volume_y</th>\n",
       "      <th>percent_chnage_y</th>\n",
       "      <th>Jump_y</th>\n",
       "      <th>Big_Jump_y</th>\n",
       "      <th>Drop_y</th>\n",
       "      <th>Big_Drop_y</th>\n",
       "    </tr>\n",
       "  </thead>\n",
       "  <tbody>\n",
       "    <tr>\n",
       "      <th>0</th>\n",
       "      <td>1</td>\n",
       "      <td>2022-07-14</td>\n",
       "      <td>This week's [Earnings Thread](https://www.redd...</td>\n",
       "      <td>3763.98999</td>\n",
       "      <td>3796.409912</td>\n",
       "      <td>3721.560059</td>\n",
       "      <td>3790.379883</td>\n",
       "      <td>3790.379883</td>\n",
       "      <td>4199690000</td>\n",
       "      <td>0.701115</td>\n",
       "      <td>...</td>\n",
       "      <td>11279.96973</td>\n",
       "      <td>11005.92969</td>\n",
       "      <td>11251.19043</td>\n",
       "      <td>11251.19043</td>\n",
       "      <td>4481070000</td>\n",
       "      <td>0.896589</td>\n",
       "      <td>1</td>\n",
       "      <td>0</td>\n",
       "      <td>0</td>\n",
       "      <td>0</td>\n",
       "    </tr>\n",
       "  </tbody>\n",
       "</table>\n",
       "<p>1 rows × 25 columns</p>\n",
       "</div>"
      ],
      "text/plain": [
       "   index        date                                           comments  \\\n",
       "0      1  2022-07-14  This week's [Earnings Thread](https://www.redd...   \n",
       "\n",
       "       Open_x       High_x        Low_x      Close_x  Adj Close_x    Volume_x  \\\n",
       "0  3763.98999  3796.409912  3721.560059  3790.379883  3790.379883  4199690000   \n",
       "\n",
       "   percent_chnage_x  ...       High_y        Low_y      Close_y  Adj Close_y  \\\n",
       "0          0.701115  ...  11279.96973  11005.92969  11251.19043  11251.19043   \n",
       "\n",
       "     Volume_y  percent_chnage_y  Jump_y  Big_Jump_y  Drop_y  Big_Drop_y  \n",
       "0  4481070000          0.896589       1           0       0           0  \n",
       "\n",
       "[1 rows x 25 columns]"
      ]
     },
     "execution_count": 5,
     "metadata": {},
     "output_type": "execute_result"
    }
   ],
   "source": [
    "df"
   ]
  },
  {
   "cell_type": "code",
   "execution_count": 6,
   "metadata": {},
   "outputs": [],
   "source": [
    "# Split comments into sentences\n",
    "df['bert_sentiment'] = df['comments'].str.split('.').apply(lambda sentences: [sentiment_score(sentence) for sentence in sentences])\n"
   ]
  },
  {
   "cell_type": "code",
   "execution_count": 7,
   "metadata": {},
   "outputs": [],
   "source": [
    "# Save the DataFrame with sentiment scores to a new CSV file\n",
    "df.to_csv('bert_sentiment.csv', index=False)"
   ]
  }
 ],
 "metadata": {
  "kernelspec": {
   "display_name": "base",
   "language": "python",
   "name": "python3"
  },
  "language_info": {
   "codemirror_mode": {
    "name": "ipython",
    "version": 3
   },
   "file_extension": ".py",
   "mimetype": "text/x-python",
   "name": "python",
   "nbconvert_exporter": "python",
   "pygments_lexer": "ipython3",
   "version": "3.9.10"
  },
  "orig_nbformat": 4
 },
 "nbformat": 4,
 "nbformat_minor": 2
}
