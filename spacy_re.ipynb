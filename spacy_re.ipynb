{
 "cells": [
  {
   "cell_type": "code",
   "execution_count": null,
   "metadata": {},
   "outputs": [],
   "source": [
    "pip install spacy"
   ]
  },
  {
   "cell_type": "code",
   "execution_count": null,
   "metadata": {},
   "outputs": [],
   "source": [
    "python -m spacy download en_core_web_sm"
   ]
  },
  {
   "cell_type": "code",
   "execution_count": 1,
   "metadata": {},
   "outputs": [],
   "source": [
    "import numpy as np\n",
    "import pandas as pd\n",
    "import nltk\n",
    "import spacy\n",
    "import re"
   ]
  },
  {
   "cell_type": "code",
   "execution_count": 2,
   "metadata": {},
   "outputs": [],
   "source": [
    "nlp = spacy.load(\"en_core_web_sm\")\n",
    "nlp.max_length = 3000000  # Set a higher value based on your needs\n",
    "spacy_stopwords = nlp.Defaults.stop_words"
   ]
  },
  {
   "cell_type": "code",
   "execution_count": 12,
   "metadata": {},
   "outputs": [],
   "source": [
    "#自己set一啲想清除既詞語 下列字詞只為測試用\n",
    "custom_stopwords = ['reddit', 'stock', 'market', 'company', 'invest', 'close', 'green', 'candle', 'like']"
   ]
  },
  {
   "cell_type": "code",
   "execution_count": 3,
   "metadata": {},
   "outputs": [
    {
     "name": "stdout",
     "output_type": "stream",
     "text": [
      "{'all', 'latterly', 'no', 'but', '’ll', 'ca', 'neither', 'rather', 'three', 'now', 'would', 'than', 'being', 'then', \"'ll\", 'two', 'our', 'just', 'doing', 'perhaps', 'and', 'throughout', 'former', 'whereby', 'say', 'anyhow', 'get', 'before', 'whereafter', 'nobody', \"'m\", 'she', 'from', 'except', 'yourself', 'yet', 'again', 'somewhere', 'namely', 'becomes', 'whenever', 'herself', 'might', 'often', 'own', 'third', 'whether', 'their', 'whither', 'few', 'twenty', 'during', 'keep', 'alone', 'here', 'therefore', '‘ve', 'both', 'whose', 'full', 'since', 'back', 'though', 'seem', 'will', 'an', 'your', 'may', 'made', 'further', '‘ll', 'bottom', 'it', 'indeed', 'how', 'least', 'please', 'five', 'within', 'sometime', 'themselves', \"'re\", 'this', 'these', 'less', 'anyway', 'many', 'be', 'ever', 'about', \"'ve\", 'thereupon', 'very', 'front', 'if', 'is', 'most', 'another', 'across', 'next', 'already', 'call', 'seems', 'to', 'through', 'until', 'any', 'regarding', 'together', 'hundred', 'whereas', 'everyone', 'various', 'should', 'toward', 'give', 'whom', 'against', 'among', 'even', 'why', 'never', 'anywhere', 'ours', 'sometimes', 'has', 'into', 'fifty', 'part', '’m', 'along', 'much', 'he', 'behind', 'are', 'other', 'of', 'who', 'him', 'by', 'make', 'per', 'really', 'everywhere', 'over', 'ourselves', 'latter', 'beforehand', '’ve', 'around', 'down', 'somehow', 'her', 'between', 'anyone', 'becoming', 'those', 'every', 'nowhere', 'using', 'thereafter', 'you', 'its', 'his', 'that', 'when', 'in', \"n't\", 'towards', 'same', 'where', 'himself', 'show', 'out', 'elsewhere', 'whereupon', 'four', 'had', 'on', 'my', 'empty', 'top', 'otherwise', 'put', 'each', 'others', 'which', 'meanwhile', 'they', 'something', 'at', 'some', 'cannot', 'too', 'have', 'still', 're', 'ten', 'well', 'because', 'under', 'last', 'above', 'take', 'enough', 'them', 'amount', 'what', 'were', 'with', 'such', 'moreover', 'hereupon', 'whoever', '’s', 'the', 'for', 'twelve', 'there', 'mine', 'besides', 'side', 'off', 'us', 'without', 'wherein', 'see', 'sixty', 'nor', 'either', \"'d\", 'serious', 'hers', 'whatever', 'does', 'we', 'nine', 'hereafter', 'almost', 'everything', 'nevertheless', 'up', 'thru', 'thence', '’re', 'can', 'unless', 'go', 'me', 'move', 'done', 'after', 'wherever', \"'s\", 'fifteen', 'once', 'first', 'six', 'always', 'become', 'below', '’d', 'beside', 'only', '‘s', 'else', '‘d', 'due', 'not', 'someone', 'afterwards', 'did', '‘re', 'one', 'beyond', 'been', 'onto', 'upon', 'however', 'a', 'more', 'several', 'eight', 'amongst', 'nothing', 'noone', 'could', 'forty', 'herein', 'must', 'formerly', 'seemed', 'via', 'whence', 'therein', 'or', 'yourselves', 'n‘t', 'eleven', 'so', 'was', 'whole', 'became', 'itself', 'yours', 'used', 'mostly', 'n’t', 'name', 'do', 'also', 'as', 'myself', '‘m', 'anything', 'seeming', 'am', 'thus', 'while', 'hereby', 'although', 'hence', 'none', 'thereby', 'quite', 'i'}\n",
      "326\n"
     ]
    }
   ],
   "source": [
    "#睇default spacy 既stopwords\n",
    "print(spacy_stopwords)\n",
    "print(len(spacy_stopwords))"
   ]
  },
  {
   "cell_type": "code",
   "execution_count": 4,
   "metadata": {},
   "outputs": [],
   "source": [
    "#用spacy + re 清埋啲符號\n",
    "def clean_comment(comment):\n",
    "    doc = nlp(comment)\n",
    "    cleaned_tokens = []\n",
    "    \n",
    "    for token in doc:\n",
    "        if not token.is_stop and not token.is_punct:\n",
    "            cleaned_tokens.append(token.lemma_.lower())\n",
    "    \n",
    "    cleaned_comment = \" \".join(cleaned_tokens)\n",
    "    \n",
    "    # Remove extra whitespace and meaningless symbols\n",
    "    cleaned_comment = re.sub(r'\\s+', ' ', cleaned_comment)\n",
    "    cleaned_comment = re.sub(r'[^a-zA-Z0-9\\s]', '', cleaned_comment)\n",
    "    \n",
    "    return cleaned_comment\n"
   ]
  },
  {
   "cell_type": "code",
   "execution_count": 13,
   "metadata": {},
   "outputs": [],
   "source": [
    "#用spacy + re + custom_stopwords 清埋啲符號\n",
    "def clean_comment(comment, custom_stopwords=None):\n",
    "    doc = nlp(comment)\n",
    "    cleaned_tokens = []\n",
    "    \n",
    "    if custom_stopwords is None:\n",
    "        custom_stopwords = []\n",
    "    \n",
    "    for token in doc:\n",
    "        if not token.is_stop and not token.is_punct and token.lemma_.lower() not in custom_stopwords:\n",
    "            cleaned_tokens.append(token.lemma_.lower())\n",
    "    \n",
    "    cleaned_comment = \" \".join(cleaned_tokens)\n",
    "    \n",
    "    # Remove extra whitespace and meaningless symbols\n",
    "    cleaned_comment = re.sub(r'\\s+', ' ', cleaned_comment)\n",
    "    cleaned_comment = re.sub(r'[^a-zA-Z0-9\\s]', '', cleaned_comment)\n",
    "    \n",
    "    return cleaned_comment"
   ]
  },
  {
   "cell_type": "code",
   "execution_count": 6,
   "metadata": {},
   "outputs": [],
   "source": [
    "# read 所有reddit comments個csv\n",
    "df = pd.read_csv(\"consol_Reddit_comment_Jan-Jun23.csv\")"
   ]
  },
  {
   "cell_type": "code",
   "execution_count": 5,
   "metadata": {},
   "outputs": [],
   "source": [
    "# demo用既 one_row.csv\n",
    "df = pd.read_csv(\"one_row.csv\")"
   ]
  },
  {
   "cell_type": "code",
   "execution_count": 6,
   "metadata": {},
   "outputs": [],
   "source": [
    "# 將comments 變成一個新column 'clean_comments' (無custom_stopwords)\n",
    "df['cleaned_comments'] = df['comments'].apply(clean_comment)"
   ]
  },
  {
   "cell_type": "code",
   "execution_count": 14,
   "metadata": {},
   "outputs": [],
   "source": [
    "# 將comments 變成一個新column 'clean_comments' (有custom_stopwords)\n",
    "df['cleaned_comments'] = df['comments'].apply(lambda x: clean_comment(x, custom_stopwords))"
   ]
  },
  {
   "cell_type": "code",
   "execution_count": 7,
   "metadata": {},
   "outputs": [],
   "source": [
    "df.to_csv(\"spacy_Reddit_comment_Jan-Jun23.csv\")"
   ]
  }
 ],
 "metadata": {
  "kernelspec": {
   "display_name": "base",
   "language": "python",
   "name": "python3"
  },
  "language_info": {
   "codemirror_mode": {
    "name": "ipython",
    "version": 3
   },
   "file_extension": ".py",
   "mimetype": "text/x-python",
   "name": "python",
   "nbconvert_exporter": "python",
   "pygments_lexer": "ipython3",
   "version": "3.9.10"
  },
  "orig_nbformat": 4
 },
 "nbformat": 4,
 "nbformat_minor": 2
}
