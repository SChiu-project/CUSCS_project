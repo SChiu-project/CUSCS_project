{
  "nbformat": 4,
  "nbformat_minor": 0,
  "metadata": {
    "colab": {
      "provenance": [],
      "mount_file_id": "1eVBO558TLFys4QlF4t5GXvWOnvHTiTf5",
      "authorship_tag": "ABX9TyMEQDLpGJk4K7SGdd8TcZyE",
      "include_colab_link": true
    },
    "kernelspec": {
      "name": "python3",
      "display_name": "Python 3"
    },
    "language_info": {
      "name": "python"
    }
  },
  "cells": [
    {
      "cell_type": "markdown",
      "metadata": {
        "id": "view-in-github",
        "colab_type": "text"
      },
      "source": [
        "<a href=\"https://colab.research.google.com/github/SChiu-project/CUSCS_project/blob/SChiu-20230702/Inspection_%26_processing.ipynb\" target=\"_parent\"><img src=\"https://colab.research.google.com/assets/colab-badge.svg\" alt=\"Open In Colab\"/></a>"
      ]
    },
    {
      "cell_type": "markdown",
      "source": [
        "## Content\n",
        "1. Data inspection\n",
        "2. Data processing"
      ],
      "metadata": {
        "id": "JoWuqSq6uej4"
      }
    },
    {
      "cell_type": "code",
      "execution_count": null,
      "metadata": {
        "id": "1SnYx9RbtRkZ"
      },
      "outputs": [],
      "source": [
        "pip install praw"
      ]
    },
    {
      "cell_type": "markdown",
      "source": [
        "##1. Data inspection\n",
        "1. meta features\n",
        "2. N-gram analysis"
      ],
      "metadata": {
        "id": "OVqNyN8quJXG"
      }
    },
    {
      "cell_type": "code",
      "source": [
        "# Meta Features (understand the structure between training & test dataset)\n",
        "\n",
        "'''\n",
        "METAFEATURES = ['word_count', 'unique_word_count', 'stop_word_count', 'url_count', 'mean_word_length',\n",
        "                'char_count', 'punctuation_count', 'hashtag_count', 'mention_count']\n",
        "'''\n",
        ""
      ],
      "metadata": {
        "id": "EPn9Zhq1vtgW"
      },
      "execution_count": null,
      "outputs": []
    },
    {
      "cell_type": "code",
      "source": [
        "# Ngrams(rank Ngrams in both labels)"
      ],
      "metadata": {
        "id": "zUGRdHQnv_Wc"
      },
      "execution_count": null,
      "outputs": []
    },
    {
      "cell_type": "code",
      "source": [],
      "metadata": {
        "id": "_i83Honmv_bm"
      },
      "execution_count": null,
      "outputs": []
    },
    {
      "cell_type": "markdown",
      "source": [
        "## 2. Data processing\n",
        "1. clean the text with embedding (Glove/ Fasttext)\n"
      ],
      "metadata": {
        "id": "J5_ES8C_uWYw"
      }
    },
    {
      "cell_type": "code",
      "source": [
        "# clean the text"
      ],
      "metadata": {
        "id": "euJhfkFJwDXA"
      },
      "execution_count": null,
      "outputs": []
    },
    {
      "cell_type": "code",
      "source": [
        "# training dataset\n",
        "# single key word\n",
        "# bi-gram\n",
        "# tri-gram"
      ],
      "metadata": {
        "id": "JERXLmmvwE7D"
      },
      "execution_count": null,
      "outputs": []
    },
    {
      "cell_type": "code",
      "source": [
        "\n",
        "# to solve\n",
        "# what if the keyword is new and never trained before in model?\n",
        "# set up a pool of keywords based on everyday top 10 keywords"
      ],
      "metadata": {
        "id": "FW__DsN5wIeT"
      },
      "execution_count": null,
      "outputs": []
    }
  ]
}