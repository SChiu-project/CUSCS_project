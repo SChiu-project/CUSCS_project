{
  "nbformat": 4,
  "nbformat_minor": 0,
  "metadata": {
    "colab": {
      "provenance": []
    },
    "kernelspec": {
      "name": "python3",
      "display_name": "Python 3"
    },
    "language_info": {
      "name": "python"
    }
  },
  "cells": [
    {
      "cell_type": "code",
      "source": [
        "pip install praw"
      ],
      "metadata": {
        "colab": {
          "base_uri": "https://localhost:8080/"
        },
        "id": "AwE7LptLMGwX",
        "outputId": "731b547a-af75-421c-e1d5-f2fd52bce960"
      },
      "execution_count": 28,
      "outputs": [
        {
          "output_type": "stream",
          "name": "stdout",
          "text": [
            "Requirement already satisfied: praw in /usr/local/lib/python3.10/dist-packages (7.7.0)\n",
            "Requirement already satisfied: prawcore<3,>=2.1 in /usr/local/lib/python3.10/dist-packages (from praw) (2.3.0)\n",
            "Requirement already satisfied: update-checker>=0.18 in /usr/local/lib/python3.10/dist-packages (from praw) (0.18.0)\n",
            "Requirement already satisfied: websocket-client>=0.54.0 in /usr/local/lib/python3.10/dist-packages (from praw) (1.6.0)\n",
            "Requirement already satisfied: requests<3.0,>=2.6.0 in /usr/local/lib/python3.10/dist-packages (from prawcore<3,>=2.1->praw) (2.27.1)\n",
            "Requirement already satisfied: urllib3<1.27,>=1.21.1 in /usr/local/lib/python3.10/dist-packages (from requests<3.0,>=2.6.0->prawcore<3,>=2.1->praw) (1.26.16)\n",
            "Requirement already satisfied: certifi>=2017.4.17 in /usr/local/lib/python3.10/dist-packages (from requests<3.0,>=2.6.0->prawcore<3,>=2.1->praw) (2023.5.7)\n",
            "Requirement already satisfied: charset-normalizer~=2.0.0 in /usr/local/lib/python3.10/dist-packages (from requests<3.0,>=2.6.0->prawcore<3,>=2.1->praw) (2.0.12)\n",
            "Requirement already satisfied: idna<4,>=2.5 in /usr/local/lib/python3.10/dist-packages (from requests<3.0,>=2.6.0->prawcore<3,>=2.1->praw) (3.4)\n"
          ]
        }
      ]
    },
    {
      "cell_type": "code",
      "execution_count": 30,
      "metadata": {
        "id": "nh2gJ7k6L0tU"
      },
      "outputs": [],
      "source": [
        "import praw\n",
        "import pandas as pd\n",
        "from datetime import datetime, timedelta\n",
        "\n",
        "# 使用 PRAW 建立 Reddit 物件\n",
        "reddit = praw.Reddit(\n",
        "    client_id=\"btBlH-D9_rabq3hzoTuEpg\",\n",
        "    client_secret=\"lNFryDZ1Xf_7DKWWEgQ0ORdudkSP_A\",\n",
        "    user_agent=\"mac:myredditproject:v1.1.1 (by u/Jun_Whelan)\",\n",
        "    check_for_async=False\n",
        ")\n"
      ]
    },
    {
      "cell_type": "code",
      "source": [
        "# 使用 subreddit 方法取得 \"wallstreetbets\"\n",
        "subreddit = reddit.subreddit(\"wallstreetbets\")\n",
        "\n",
        "# 搜尋 \"What Are Your Moves Tomorrow\" 既post\n",
        "posts = subreddit.search(\"What Are Your Moves Tomorrow\", time_filter=\"all\", limit=None)\n",
        "\n",
        "# 建立空的列表來存儲post id\n",
        "post_ids = []\n",
        "post_dates = []\n",
        "\n",
        "# Scrapping，將id加到list\n",
        "for post in posts:\n",
        "    post_ids.append(post.id)\n",
        "    post_dates.append(datetime.fromtimestamp(post.created_utc).strftime(\"%Y-%m-%d\"))\n",
        "\n",
        "# sort id\n",
        "sorted_posts = sorted(zip(post_ids, post_dates), key=lambda x: x[1], reverse=True)\n",
        "\n",
        "# 輸出post的ID和日期\n",
        "for post_id, post_date in sorted_posts:\n",
        "    print(\"Post ID:\", post_id)\n",
        "    print(\"Post Date:\", post_date)\n",
        "    print()"
      ],
      "metadata": {
        "id": "9VwQOnkJTlb5"
      },
      "execution_count": null,
      "outputs": []
    },
    {
      "cell_type": "code",
      "source": [
        "# DataFrame\n",
        "data = {\"Post ID\": post_ids, \"Post Date\": post_dates}\n",
        "df = pd.DataFrame(data).sort_values(by=\"Post Date\", ascending=False)\n",
        "df = df.reset_index(drop=True)\n",
        "\n",
        "print(df)"
      ],
      "metadata": {
        "colab": {
          "base_uri": "https://localhost:8080/"
        },
        "id": "MM7hgn6Cdd9f",
        "outputId": "259ce9ee-f3ee-4e86-f8bf-f7124acc2915"
      },
      "execution_count": 67,
      "outputs": [
        {
          "output_type": "stream",
          "name": "stdout",
          "text": [
            "     Post ID   Post Date\n",
            "0    14sk11b  2023-07-06\n",
            "1    14rlklm  2023-07-05\n",
            "2    14qpb7x  2023-07-04\n",
            "3    14oxmw4  2023-07-02\n",
            "4    14metqx  2023-06-29\n",
            "..       ...         ...\n",
            "245   vwrj72  2022-07-11\n",
            "246   vvzou2  2022-07-10\n",
            "247   vj5o3e  2022-06-23\n",
            "248   vd381r  2022-06-15\n",
            "249   vau2jy  2022-06-12\n",
            "\n",
            "[250 rows x 2 columns]\n"
          ]
        }
      ]
    },
    {
      "cell_type": "code",
      "source": [
        "# 搵最早既post\n",
        "earliest_post = None\n",
        "earliest_date = datetime(2022, 6, 12)  # set搵12/6/2022之前\n",
        "\n",
        "for post in subreddit.new(limit=None):\n",
        "    post_date = datetime.fromtimestamp(post.created_utc)\n",
        "    if post_date < earliest_date:\n",
        "        earliest_post = post\n",
        "        earliest_date = post_date\n",
        "        break  #搵到就break\n",
        "\n",
        "if earliest_post:\n",
        "    print(\"Earliest Post ID:\", earliest_post.id)\n",
        "    print(\"Earliest Post Date:\", earliest_date.strftime(\"%Y-%m-%d\"))\n",
        "else:\n",
        "    print(\"No posts found before the specified date.\")\n"
      ],
      "metadata": {
        "colab": {
          "base_uri": "https://localhost:8080/"
        },
        "id": "NxsbO6rPU7CS",
        "outputId": "bb33d531-db0c-4245-e448-fa3f1d6653c8"
      },
      "execution_count": 62,
      "outputs": [
        {
          "output_type": "stream",
          "name": "stdout",
          "text": [
            "No posts found before the specified date.\n"
          ]
        }
      ]
    }
  ]
}